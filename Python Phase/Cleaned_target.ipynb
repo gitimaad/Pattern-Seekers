{
 "cells": [
  {
   "cell_type": "markdown",
   "id": "9262caeb",
   "metadata": {},
   "source": [
    "# Python Phase - Target\n",
    "\n",
    "This code will be the skeleton part for our Construc Week Project Approach. This file consists of all the major part of the analysis takes place and finally, connecting MySQL databases for it to import all the files and therefore creating a final dashboard. \n",
    "\n",
    "For the following phase, we have a total number of 7 datasets in which all of them are unclean meaning, they are not aligned and have a clustered set of results. In order to get ahead of it, each particular dataset has been arranged to ensure the data has been assigned to their particular columns. \n",
    "\n",
    "We shall now begin the basic EDA (Exploratory Data Analysis) and ensure each dataset has been cleaned and is set to be used in creating a database and then the dashboard."
   ]
  },
  {
   "cell_type": "code",
   "execution_count": 23,
   "id": "311d6811-937e-43dd-a122-80eb32589846",
   "metadata": {},
   "outputs": [],
   "source": [
    "# Importing all the essential libraries for the analysis to be done.\n",
    "import pandas as pd\n",
    "import matplotlib.pyplot as plt\n",
    "import seaborn as sns\n",
    "import numpy as np\n",
    "\n",
    "# Importing libraries to connect and inject all the values from the dataset into the database server.\n",
    "from sqlalchemy import create_engine\n",
    "import mysql.connector"
   ]
  },
  {
   "cell_type": "code",
   "execution_count": 24,
   "id": "38406e78",
   "metadata": {},
   "outputs": [
    {
     "name": "stdout",
     "output_type": "stream",
     "text": [
      "You have successfully connected to your database.\n"
     ]
    }
   ],
   "source": [
    "# Creating a connector so that the server can be connected here.\n",
    "db_connector = mysql.connector.connect(\n",
    "    host = \"127.0.0.1\",       \n",
    "    username = \"root\",\n",
    "    password = \"MySQL12345\",\n",
    "    database = \"patternseekers\"\n",
    ")\n",
    "\n",
    "# A custom message that displays if the operation has been successful.\n",
    "print(f\"You have successfully connected to your database.\")"
   ]
  },
  {
   "cell_type": "code",
   "execution_count": 25,
   "id": "06919c7e",
   "metadata": {},
   "outputs": [
    {
     "name": "stdout",
     "output_type": "stream",
     "text": [
      "The connection to the MySQL Engine is now functional.\n"
     ]
    }
   ],
   "source": [
    "# This engine will be another verification so that all the records made here can be added into the database.\n",
    "engine = create_engine(f\"mysql+mysqlconnector://{\"root\"}:{\"MySQL12345\"}@{\"127.0.0.1\"}/{\"patternseekers\"}\")\n",
    "print(\"The connection to the MySQL Engine is now functional.\")"
   ]
  },
  {
   "cell_type": "code",
   "execution_count": 5,
   "id": "4b96ac3b-e5e2-4d1f-a289-b8651bab4a75",
   "metadata": {},
   "outputs": [
    {
     "data": {
      "text/html": [
       "<div>\n",
       "<style scoped>\n",
       "    .dataframe tbody tr th:only-of-type {\n",
       "        vertical-align: middle;\n",
       "    }\n",
       "\n",
       "    .dataframe tbody tr th {\n",
       "        vertical-align: top;\n",
       "    }\n",
       "\n",
       "    .dataframe thead th {\n",
       "        text-align: right;\n",
       "    }\n",
       "</style>\n",
       "<table border=\"1\" class=\"dataframe\">\n",
       "  <thead>\n",
       "    <tr style=\"text-align: right;\">\n",
       "      <th></th>\n",
       "      <th>EmployeeID</th>\n",
       "      <th>Target</th>\n",
       "      <th>TargetDate</th>\n",
       "    </tr>\n",
       "  </thead>\n",
       "  <tbody>\n",
       "    <tr>\n",
       "      <th>0</th>\n",
       "      <td>90836195</td>\n",
       "      <td>$500,000</td>\n",
       "      <td>Friday, December 1, 2017</td>\n",
       "    </tr>\n",
       "    <tr>\n",
       "      <th>1</th>\n",
       "      <td>112432117</td>\n",
       "      <td>$500,000</td>\n",
       "      <td>Saturday, July 1, 2017</td>\n",
       "    </tr>\n",
       "    <tr>\n",
       "      <th>2</th>\n",
       "      <td>139397894</td>\n",
       "      <td>$500,000</td>\n",
       "      <td>Friday, December 1, 2017</td>\n",
       "    </tr>\n",
       "    <tr>\n",
       "      <th>3</th>\n",
       "      <td>191644724</td>\n",
       "      <td>$500,000</td>\n",
       "      <td>Friday, September 1, 2017</td>\n",
       "    </tr>\n",
       "    <tr>\n",
       "      <th>4</th>\n",
       "      <td>502097814</td>\n",
       "      <td>$500,000</td>\n",
       "      <td>Saturday, July 1, 2017</td>\n",
       "    </tr>\n",
       "    <tr>\n",
       "      <th>...</th>\n",
       "      <td>...</td>\n",
       "      <td>...</td>\n",
       "      <td>...</td>\n",
       "    </tr>\n",
       "    <tr>\n",
       "      <th>804</th>\n",
       "      <td>954276278</td>\n",
       "      <td>$75,000</td>\n",
       "      <td>Monday, February 1, 2021</td>\n",
       "    </tr>\n",
       "    <tr>\n",
       "      <th>805</th>\n",
       "      <td>954276278</td>\n",
       "      <td>$100,000</td>\n",
       "      <td>Monday, March 1, 2021</td>\n",
       "    </tr>\n",
       "    <tr>\n",
       "      <th>806</th>\n",
       "      <td>954276278</td>\n",
       "      <td>$125,000</td>\n",
       "      <td>Thursday, April 1, 2021</td>\n",
       "    </tr>\n",
       "    <tr>\n",
       "      <th>807</th>\n",
       "      <td>954276278</td>\n",
       "      <td>$150,000</td>\n",
       "      <td>Saturday, May 1, 2021</td>\n",
       "    </tr>\n",
       "    <tr>\n",
       "      <th>808</th>\n",
       "      <td>954276278</td>\n",
       "      <td>$175,000</td>\n",
       "      <td>Tuesday, June 1, 2021</td>\n",
       "    </tr>\n",
       "  </tbody>\n",
       "</table>\n",
       "<p>809 rows × 3 columns</p>\n",
       "</div>"
      ],
      "text/plain": [
       "     EmployeeID    Target                 TargetDate\n",
       "0      90836195  $500,000   Friday, December 1, 2017\n",
       "1     112432117  $500,000     Saturday, July 1, 2017\n",
       "2     139397894  $500,000   Friday, December 1, 2017\n",
       "3     191644724  $500,000  Friday, September 1, 2017\n",
       "4     502097814  $500,000     Saturday, July 1, 2017\n",
       "..          ...       ...                        ...\n",
       "804   954276278   $75,000   Monday, February 1, 2021\n",
       "805   954276278  $100,000      Monday, March 1, 2021\n",
       "806   954276278  $125,000    Thursday, April 1, 2021\n",
       "807   954276278  $150,000      Saturday, May 1, 2021\n",
       "808   954276278  $175,000      Tuesday, June 1, 2021\n",
       "\n",
       "[809 rows x 3 columns]"
      ]
     },
     "execution_count": 5,
     "metadata": {},
     "output_type": "execute_result"
    }
   ],
   "source": [
    "# Locating the dataset path and assigning it to a new dataframe.\n",
    "file_path = \"Target [FIXED].csv\"\n",
    "target_df = pd.read_csv(file_path)\n",
    "\n",
    "# Displaying the dataframe to check out the table. \n",
    "target_df"
   ]
  },
  {
   "cell_type": "code",
   "execution_count": 6,
   "id": "87f1d87c",
   "metadata": {},
   "outputs": [
    {
     "name": "stdout",
     "output_type": "stream",
     "text": [
      "<class 'pandas.core.frame.DataFrame'>\n",
      "RangeIndex: 809 entries, 0 to 808\n",
      "Data columns (total 3 columns):\n",
      " #   Column      Non-Null Count  Dtype \n",
      "---  ------      --------------  ----- \n",
      " 0   EmployeeID  809 non-null    int64 \n",
      " 1   Target      809 non-null    object\n",
      " 2   TargetDate  809 non-null    object\n",
      "dtypes: int64(1), object(2)\n",
      "memory usage: 19.1+ KB\n"
     ]
    }
   ],
   "source": [
    "# Displaying the basic information of the dataset. \n",
    "target_df.info()"
   ]
  },
  {
   "cell_type": "code",
   "execution_count": 8,
   "id": "b2730ce3",
   "metadata": {},
   "outputs": [
    {
     "data": {
      "text/html": [
       "<div>\n",
       "<style scoped>\n",
       "    .dataframe tbody tr th:only-of-type {\n",
       "        vertical-align: middle;\n",
       "    }\n",
       "\n",
       "    .dataframe tbody tr th {\n",
       "        vertical-align: top;\n",
       "    }\n",
       "\n",
       "    .dataframe thead th {\n",
       "        text-align: right;\n",
       "    }\n",
       "</style>\n",
       "<table border=\"1\" class=\"dataframe\">\n",
       "  <thead>\n",
       "    <tr style=\"text-align: right;\">\n",
       "      <th></th>\n",
       "      <th>EmployeeID</th>\n",
       "      <th>Target</th>\n",
       "      <th>TargetDate</th>\n",
       "    </tr>\n",
       "  </thead>\n",
       "  <tbody>\n",
       "    <tr>\n",
       "      <th>0</th>\n",
       "      <td>90836195</td>\n",
       "      <td>500000.0</td>\n",
       "      <td>Friday, December 1, 2017</td>\n",
       "    </tr>\n",
       "    <tr>\n",
       "      <th>1</th>\n",
       "      <td>112432117</td>\n",
       "      <td>500000.0</td>\n",
       "      <td>Saturday, July 1, 2017</td>\n",
       "    </tr>\n",
       "    <tr>\n",
       "      <th>2</th>\n",
       "      <td>139397894</td>\n",
       "      <td>500000.0</td>\n",
       "      <td>Friday, December 1, 2017</td>\n",
       "    </tr>\n",
       "    <tr>\n",
       "      <th>3</th>\n",
       "      <td>191644724</td>\n",
       "      <td>500000.0</td>\n",
       "      <td>Friday, September 1, 2017</td>\n",
       "    </tr>\n",
       "    <tr>\n",
       "      <th>4</th>\n",
       "      <td>502097814</td>\n",
       "      <td>500000.0</td>\n",
       "      <td>Saturday, July 1, 2017</td>\n",
       "    </tr>\n",
       "  </tbody>\n",
       "</table>\n",
       "</div>"
      ],
      "text/plain": [
       "   EmployeeID    Target                 TargetDate\n",
       "0    90836195  500000.0   Friday, December 1, 2017\n",
       "1   112432117  500000.0     Saturday, July 1, 2017\n",
       "2   139397894  500000.0   Friday, December 1, 2017\n",
       "3   191644724  500000.0  Friday, September 1, 2017\n",
       "4   502097814  500000.0     Saturday, July 1, 2017"
      ]
     },
     "execution_count": 8,
     "metadata": {},
     "output_type": "execute_result"
    }
   ],
   "source": [
    "# Removing the '$' for now so that the analysis can be done without having to encounter unnecessary errors while performing the EDA.\n",
    "target_df['Target'] = target_df['Target'].replace(r'[\\$,]', '', regex=True).astype(float)\n",
    "\n",
    "# Displaying the first 5 values from the table to verify if the values are all in the correct format.\n",
    "target_df.head()"
   ]
  },
  {
   "cell_type": "code",
   "execution_count": 9,
   "id": "2c2af732-3a43-488e-9483-d6afbcc59ce7",
   "metadata": {},
   "outputs": [
    {
     "data": {
      "text/plain": [
       "EmployeeID    0\n",
       "Target        0\n",
       "TargetDate    0\n",
       "dtype: int64"
      ]
     },
     "execution_count": 9,
     "metadata": {},
     "output_type": "execute_result"
    }
   ],
   "source": [
    "# Calling out the total number of NULL values present in the table and displaying how many are there.\n",
    "target_df.isnull().sum()"
   ]
  },
  {
   "cell_type": "code",
   "execution_count": 10,
   "id": "21f1ab29",
   "metadata": {},
   "outputs": [
    {
     "data": {
      "text/plain": [
       "EmployeeID      int64\n",
       "Target        float64\n",
       "TargetDate     object\n",
       "dtype: object"
      ]
     },
     "execution_count": 10,
     "metadata": {},
     "output_type": "execute_result"
    }
   ],
   "source": [
    "# Identifying the data types to see what we will be dealing with.\n",
    "target_df.dtypes"
   ]
  },
  {
   "cell_type": "code",
   "execution_count": 11,
   "id": "28e4cc96-5a99-4f66-9fb9-5934e67ec0ed",
   "metadata": {},
   "outputs": [
    {
     "data": {
      "text/plain": [
       "np.int64(0)"
      ]
     },
     "execution_count": 11,
     "metadata": {},
     "output_type": "execute_result"
    }
   ],
   "source": [
    "# Searching for duplicate values in the dataset (if exists).\n",
    "target_df.duplicated().sum()"
   ]
  },
  {
   "cell_type": "code",
   "execution_count": 16,
   "id": "d15e751a-0dc2-4e97-a401-d4f0c8e5c776",
   "metadata": {},
   "outputs": [
    {
     "data": {
      "text/html": [
       "<div>\n",
       "<style scoped>\n",
       "    .dataframe tbody tr th:only-of-type {\n",
       "        vertical-align: middle;\n",
       "    }\n",
       "\n",
       "    .dataframe tbody tr th {\n",
       "        vertical-align: top;\n",
       "    }\n",
       "\n",
       "    .dataframe thead th {\n",
       "        text-align: right;\n",
       "    }\n",
       "</style>\n",
       "<table border=\"1\" class=\"dataframe\">\n",
       "  <thead>\n",
       "    <tr style=\"text-align: right;\">\n",
       "      <th></th>\n",
       "      <th>EmployeeID</th>\n",
       "      <th>Target</th>\n",
       "      <th>TargetDate</th>\n",
       "      <th>TargetDay</th>\n",
       "    </tr>\n",
       "  </thead>\n",
       "  <tbody>\n",
       "    <tr>\n",
       "      <th>0</th>\n",
       "      <td>90836195</td>\n",
       "      <td>500000.0</td>\n",
       "      <td>2017-12-01</td>\n",
       "      <td>Friday</td>\n",
       "    </tr>\n",
       "    <tr>\n",
       "      <th>1</th>\n",
       "      <td>112432117</td>\n",
       "      <td>500000.0</td>\n",
       "      <td>2017-07-01</td>\n",
       "      <td>Saturday</td>\n",
       "    </tr>\n",
       "    <tr>\n",
       "      <th>2</th>\n",
       "      <td>139397894</td>\n",
       "      <td>500000.0</td>\n",
       "      <td>2017-12-01</td>\n",
       "      <td>Friday</td>\n",
       "    </tr>\n",
       "    <tr>\n",
       "      <th>3</th>\n",
       "      <td>191644724</td>\n",
       "      <td>500000.0</td>\n",
       "      <td>2017-09-01</td>\n",
       "      <td>Friday</td>\n",
       "    </tr>\n",
       "    <tr>\n",
       "      <th>4</th>\n",
       "      <td>502097814</td>\n",
       "      <td>500000.0</td>\n",
       "      <td>2017-07-01</td>\n",
       "      <td>Saturday</td>\n",
       "    </tr>\n",
       "  </tbody>\n",
       "</table>\n",
       "</div>"
      ],
      "text/plain": [
       "   EmployeeID    Target TargetDate TargetDay\n",
       "0    90836195  500000.0 2017-12-01    Friday\n",
       "1   112432117  500000.0 2017-07-01  Saturday\n",
       "2   139397894  500000.0 2017-12-01    Friday\n",
       "3   191644724  500000.0 2017-09-01    Friday\n",
       "4   502097814  500000.0 2017-07-01  Saturday"
      ]
     },
     "execution_count": 16,
     "metadata": {},
     "output_type": "execute_result"
    }
   ],
   "source": [
    "# Converting the 'TargetDate' into a particular DateTime format.\n",
    "target_df['TargetDate'] = pd.to_datetime(target_df['TargetDate'], format='%a, %B %d, %Y')\n",
    "target_df['TargetDay'] = target_df['TargetDate'].dt.day_name()\n",
    "\n",
    "# Displaying the first 5 rows to verify if the changes have been made.\n",
    "target_df.head()"
   ]
  },
  {
   "cell_type": "code",
   "execution_count": 17,
   "id": "3033e2ac-de32-430a-b892-a7eaffad429c",
   "metadata": {},
   "outputs": [
    {
     "data": {
      "text/plain": [
       "EmployeeID             int64\n",
       "Target               float64\n",
       "TargetDate    datetime64[ns]\n",
       "TargetDay             object\n",
       "dtype: object"
      ]
     },
     "execution_count": 17,
     "metadata": {},
     "output_type": "execute_result"
    }
   ],
   "source": [
    "# Identifying the data types to see what we will be dealing with.\n",
    "target_df.dtypes"
   ]
  },
  {
   "cell_type": "code",
   "execution_count": 18,
   "id": "feb78f11-31d7-46f9-be36-3135e2423b7c",
   "metadata": {},
   "outputs": [],
   "source": [
    "# Removing any leading or trailing whitespace that contain unintended spaces. \n",
    "target_df = target_df.apply(lambda x: x.str.strip() if x.dtype == \"object\" else x)"
   ]
  },
  {
   "cell_type": "code",
   "execution_count": 19,
   "id": "51f7dd87-6ad0-45b4-8610-2500f6ef2b98",
   "metadata": {},
   "outputs": [],
   "source": [
    "# Ensuring the Target DataFrame has no negative values in the dataset.\n",
    "target_df = target_df[target_df['Target'] >= 0] "
   ]
  },
  {
   "cell_type": "code",
   "execution_count": 21,
   "id": "e54a861b-bcab-4a61-8ae8-fc03bbd11dac",
   "metadata": {},
   "outputs": [
    {
     "data": {
      "text/html": [
       "<div>\n",
       "<style scoped>\n",
       "    .dataframe tbody tr th:only-of-type {\n",
       "        vertical-align: middle;\n",
       "    }\n",
       "\n",
       "    .dataframe tbody tr th {\n",
       "        vertical-align: top;\n",
       "    }\n",
       "\n",
       "    .dataframe thead th {\n",
       "        text-align: right;\n",
       "    }\n",
       "</style>\n",
       "<table border=\"1\" class=\"dataframe\">\n",
       "  <thead>\n",
       "    <tr style=\"text-align: right;\">\n",
       "      <th></th>\n",
       "      <th>EmployeeID</th>\n",
       "      <th>Target</th>\n",
       "      <th>TargetDate</th>\n",
       "      <th>TargetDay</th>\n",
       "    </tr>\n",
       "  </thead>\n",
       "  <tbody>\n",
       "    <tr>\n",
       "      <th>0</th>\n",
       "      <td>90836195</td>\n",
       "      <td>500000.0</td>\n",
       "      <td>2017-12-01</td>\n",
       "      <td>Friday</td>\n",
       "    </tr>\n",
       "    <tr>\n",
       "      <th>1</th>\n",
       "      <td>112432117</td>\n",
       "      <td>500000.0</td>\n",
       "      <td>2017-07-01</td>\n",
       "      <td>Saturday</td>\n",
       "    </tr>\n",
       "    <tr>\n",
       "      <th>2</th>\n",
       "      <td>139397894</td>\n",
       "      <td>500000.0</td>\n",
       "      <td>2017-12-01</td>\n",
       "      <td>Friday</td>\n",
       "    </tr>\n",
       "    <tr>\n",
       "      <th>3</th>\n",
       "      <td>191644724</td>\n",
       "      <td>500000.0</td>\n",
       "      <td>2017-09-01</td>\n",
       "      <td>Friday</td>\n",
       "    </tr>\n",
       "    <tr>\n",
       "      <th>4</th>\n",
       "      <td>502097814</td>\n",
       "      <td>500000.0</td>\n",
       "      <td>2017-07-01</td>\n",
       "      <td>Saturday</td>\n",
       "    </tr>\n",
       "    <tr>\n",
       "      <th>...</th>\n",
       "      <td>...</td>\n",
       "      <td>...</td>\n",
       "      <td>...</td>\n",
       "      <td>...</td>\n",
       "    </tr>\n",
       "    <tr>\n",
       "      <th>804</th>\n",
       "      <td>954276278</td>\n",
       "      <td>75000.0</td>\n",
       "      <td>2021-02-01</td>\n",
       "      <td>Monday</td>\n",
       "    </tr>\n",
       "    <tr>\n",
       "      <th>805</th>\n",
       "      <td>954276278</td>\n",
       "      <td>100000.0</td>\n",
       "      <td>2021-03-01</td>\n",
       "      <td>Monday</td>\n",
       "    </tr>\n",
       "    <tr>\n",
       "      <th>806</th>\n",
       "      <td>954276278</td>\n",
       "      <td>125000.0</td>\n",
       "      <td>2021-04-01</td>\n",
       "      <td>Thursday</td>\n",
       "    </tr>\n",
       "    <tr>\n",
       "      <th>807</th>\n",
       "      <td>954276278</td>\n",
       "      <td>150000.0</td>\n",
       "      <td>2021-05-01</td>\n",
       "      <td>Saturday</td>\n",
       "    </tr>\n",
       "    <tr>\n",
       "      <th>808</th>\n",
       "      <td>954276278</td>\n",
       "      <td>175000.0</td>\n",
       "      <td>2021-06-01</td>\n",
       "      <td>Tuesday</td>\n",
       "    </tr>\n",
       "  </tbody>\n",
       "</table>\n",
       "<p>809 rows × 4 columns</p>\n",
       "</div>"
      ],
      "text/plain": [
       "     EmployeeID    Target TargetDate TargetDay\n",
       "0      90836195  500000.0 2017-12-01    Friday\n",
       "1     112432117  500000.0 2017-07-01  Saturday\n",
       "2     139397894  500000.0 2017-12-01    Friday\n",
       "3     191644724  500000.0 2017-09-01    Friday\n",
       "4     502097814  500000.0 2017-07-01  Saturday\n",
       "..          ...       ...        ...       ...\n",
       "804   954276278   75000.0 2021-02-01    Monday\n",
       "805   954276278  100000.0 2021-03-01    Monday\n",
       "806   954276278  125000.0 2021-04-01  Thursday\n",
       "807   954276278  150000.0 2021-05-01  Saturday\n",
       "808   954276278  175000.0 2021-06-01   Tuesday\n",
       "\n",
       "[809 rows x 4 columns]"
      ]
     },
     "execution_count": 21,
     "metadata": {},
     "output_type": "execute_result"
    }
   ],
   "source": [
    "# Rounding up the numerical values in the target column with 2 decimal points.\n",
    "target_df['Target'] = target_df['Target'].round(2)\n",
    "\n",
    "# Displaying the dataset to see if the changes have been made. \n",
    "target_df"
   ]
  },
  {
   "cell_type": "code",
   "execution_count": 22,
   "id": "4882dd83",
   "metadata": {},
   "outputs": [
    {
     "name": "stdout",
     "output_type": "stream",
     "text": [
      "Number of outliers that can be found from this dataset are: 87\n"
     ]
    },
    {
     "data": {
      "text/html": [
       "<div>\n",
       "<style scoped>\n",
       "    .dataframe tbody tr th:only-of-type {\n",
       "        vertical-align: middle;\n",
       "    }\n",
       "\n",
       "    .dataframe tbody tr th {\n",
       "        vertical-align: top;\n",
       "    }\n",
       "\n",
       "    .dataframe thead th {\n",
       "        text-align: right;\n",
       "    }\n",
       "</style>\n",
       "<table border=\"1\" class=\"dataframe\">\n",
       "  <thead>\n",
       "    <tr style=\"text-align: right;\">\n",
       "      <th></th>\n",
       "      <th>EmployeeID</th>\n",
       "      <th>Target</th>\n",
       "      <th>TargetDate</th>\n",
       "      <th>TargetDay</th>\n",
       "    </tr>\n",
       "  </thead>\n",
       "  <tbody>\n",
       "    <tr>\n",
       "      <th>389</th>\n",
       "      <td>112432117</td>\n",
       "      <td>2200000.0</td>\n",
       "      <td>2017-11-01</td>\n",
       "      <td>Wednesday</td>\n",
       "    </tr>\n",
       "    <tr>\n",
       "      <th>390</th>\n",
       "      <td>112432117</td>\n",
       "      <td>1750000.0</td>\n",
       "      <td>2017-12-01</td>\n",
       "      <td>Friday</td>\n",
       "    </tr>\n",
       "    <tr>\n",
       "      <th>410</th>\n",
       "      <td>502097814</td>\n",
       "      <td>2200000.0</td>\n",
       "      <td>2017-11-01</td>\n",
       "      <td>Wednesday</td>\n",
       "    </tr>\n",
       "    <tr>\n",
       "      <th>411</th>\n",
       "      <td>502097814</td>\n",
       "      <td>1750000.0</td>\n",
       "      <td>2017-12-01</td>\n",
       "      <td>Friday</td>\n",
       "    </tr>\n",
       "    <tr>\n",
       "      <th>430</th>\n",
       "      <td>61161660</td>\n",
       "      <td>1750000.0</td>\n",
       "      <td>2018-09-01</td>\n",
       "      <td>Saturday</td>\n",
       "    </tr>\n",
       "    <tr>\n",
       "      <th>...</th>\n",
       "      <td>...</td>\n",
       "      <td>...</td>\n",
       "      <td>...</td>\n",
       "      <td>...</td>\n",
       "    </tr>\n",
       "    <tr>\n",
       "      <th>792</th>\n",
       "      <td>502097814</td>\n",
       "      <td>3000000.0</td>\n",
       "      <td>2021-08-01</td>\n",
       "      <td>Sunday</td>\n",
       "    </tr>\n",
       "    <tr>\n",
       "      <th>793</th>\n",
       "      <td>502097814</td>\n",
       "      <td>3500000.0</td>\n",
       "      <td>2021-09-01</td>\n",
       "      <td>Wednesday</td>\n",
       "    </tr>\n",
       "    <tr>\n",
       "      <th>794</th>\n",
       "      <td>502097814</td>\n",
       "      <td>2500000.0</td>\n",
       "      <td>2021-10-01</td>\n",
       "      <td>Friday</td>\n",
       "    </tr>\n",
       "    <tr>\n",
       "      <th>795</th>\n",
       "      <td>502097814</td>\n",
       "      <td>3000000.0</td>\n",
       "      <td>2021-11-01</td>\n",
       "      <td>Monday</td>\n",
       "    </tr>\n",
       "    <tr>\n",
       "      <th>796</th>\n",
       "      <td>502097814</td>\n",
       "      <td>3000000.0</td>\n",
       "      <td>2021-12-01</td>\n",
       "      <td>Wednesday</td>\n",
       "    </tr>\n",
       "  </tbody>\n",
       "</table>\n",
       "<p>87 rows × 4 columns</p>\n",
       "</div>"
      ],
      "text/plain": [
       "     EmployeeID     Target TargetDate  TargetDay\n",
       "389   112432117  2200000.0 2017-11-01  Wednesday\n",
       "390   112432117  1750000.0 2017-12-01     Friday\n",
       "410   502097814  2200000.0 2017-11-01  Wednesday\n",
       "411   502097814  1750000.0 2017-12-01     Friday\n",
       "430    61161660  1750000.0 2018-09-01   Saturday\n",
       "..          ...        ...        ...        ...\n",
       "792   502097814  3000000.0 2021-08-01     Sunday\n",
       "793   502097814  3500000.0 2021-09-01  Wednesday\n",
       "794   502097814  2500000.0 2021-10-01     Friday\n",
       "795   502097814  3000000.0 2021-11-01     Monday\n",
       "796   502097814  3000000.0 2021-12-01  Wednesday\n",
       "\n",
       "[87 rows x 4 columns]"
      ]
     },
     "execution_count": 22,
     "metadata": {},
     "output_type": "execute_result"
    }
   ],
   "source": [
    "# Finding out if there are any outliers in the dataset.\n",
    "\n",
    "# Calculating the Quartiles and InterQuartile Range (IQR).\n",
    "Q1 = target_df['Target'].quantile(0.25)\n",
    "Q3 = target_df['Target'].quantile(0.75)\n",
    "IQR = Q3 - Q1\n",
    "\n",
    "# Identifying the outliers.\n",
    "lower_bound = Q1 - 1.5 * IQR\n",
    "upper_bound = Q3 + 1.5 * IQR\n",
    "outliers = target_df[(target_df['Target'] < lower_bound) | (target_df['Target'] > upper_bound)]\n",
    "\n",
    "# Displaying the a custom text to mention the number of outliers found along with the rows that have outliers in them.\n",
    "print(f'Number of outliers that can be found from this dataset are: {len(outliers)}')\n",
    "outliers"
   ]
  },
  {
   "cell_type": "code",
   "execution_count": 28,
   "id": "a90bec56",
   "metadata": {},
   "outputs": [
    {
     "name": "stdout",
     "output_type": "stream",
     "text": [
      "Table 'Targets' has been created and data has been inserted successfully.\n"
     ]
    },
    {
     "name": "stderr",
     "output_type": "stream",
     "text": [
      "C:\\Users\\hamad\\AppData\\Local\\Temp\\ipykernel_11488\\3466332779.py:2: UserWarning: The provided table name 'Targets' is not found exactly as such in the database after writing the table, possibly due to case sensitivity issues. Consider using lower case table names.\n",
      "  target_df.to_sql(\n"
     ]
    }
   ],
   "source": [
    "# Pushing all the data into the MySQL database.\n",
    "target_df.to_sql(\n",
    "    name = 'Targets',\n",
    "    con=engine,\n",
    "    index = False,\n",
    "    if_exists = 'append'\n",
    ")\n",
    "\n",
    "# Custom message to ensure the operation has been completed successfully.\n",
    "print(\"Table 'Targets' has been created and data has been inserted successfully.\")"
   ]
  }
 ],
 "metadata": {
  "kernelspec": {
   "display_name": "Python 3",
   "language": "python",
   "name": "python3"
  },
  "language_info": {
   "codemirror_mode": {
    "name": "ipython",
    "version": 3
   },
   "file_extension": ".py",
   "mimetype": "text/x-python",
   "name": "python",
   "nbconvert_exporter": "python",
   "pygments_lexer": "ipython3",
   "version": "3.13.1"
  }
 },
 "nbformat": 4,
 "nbformat_minor": 5
}
