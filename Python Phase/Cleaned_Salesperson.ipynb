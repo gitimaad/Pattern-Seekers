{
 "cells": [
  {
   "cell_type": "markdown",
   "id": "16b6c0e8",
   "metadata": {},
   "source": [
    "# Python Phase - Sales Person\n",
    "\n",
    "This code will be the skeleton part for our Construc Week Project Approach. This file consists of all the major part of the analysis takes place and finally, connecting MySQL databases for it to import all the files and therefore creating a final dashboard. \n",
    "\n",
    "For the following phase, we have a total number of 7 datasets in which all of them are unclean meaning, they are not aligned and have a clustered set of results. In order to get ahead of it, each particular dataset has been arranged to ensure the data has been assigned to their particular columns. \n",
    "\n",
    "We shall now begin the basic EDA (Exploratory Data Analysis) and ensure each dataset has been cleaned and is set to be used in creating a database and then the dashboard."
   ]
  },
  {
   "cell_type": "code",
   "execution_count": 21,
   "id": "827e15e5-7ba7-47c3-ba6e-e4d976dead41",
   "metadata": {},
   "outputs": [],
   "source": [
    "# Importing all the essential libraries for the analysis to be done.\n",
    "import pandas as pd\n",
    "import matplotlib.pyplot as plt\n",
    "import seaborn as sns\n",
    "import numpy as np\n",
    "\n",
    "# Importing libraries to connect and inject all the values from the dataset into the database server.\n",
    "from sqlalchemy import create_engine\n",
    "import mysql.connector"
   ]
  },
  {
   "cell_type": "code",
   "execution_count": 22,
   "id": "f048eb59",
   "metadata": {},
   "outputs": [
    {
     "name": "stdout",
     "output_type": "stream",
     "text": [
      "You have successfully connected to your database.\n"
     ]
    }
   ],
   "source": [
    "# Creating a connector so that the server can be connected here.\n",
    "db_connector = mysql.connector.connect(\n",
    "    host = \"127.0.0.1\",       \n",
    "    username = \"root\",\n",
    "    password = \"MySQL12345\",\n",
    "    database = \"patternseekers\"\n",
    ")\n",
    "\n",
    "# A custom message that displays if the operation has been successful.\n",
    "print(f\"You have successfully connected to your database.\")"
   ]
  },
  {
   "cell_type": "code",
   "execution_count": 23,
   "id": "00daed2a",
   "metadata": {},
   "outputs": [
    {
     "name": "stdout",
     "output_type": "stream",
     "text": [
      "The connection to the MySQL Engine is now functional.\n"
     ]
    }
   ],
   "source": [
    "# This engine will be another verification so that all the records made here can be added into the database.\n",
    "engine = create_engine(f\"mysql+mysqlconnector://{\"root\"}:{\"MySQL12345\"}@{\"127.0.0.1\"}/{\"patternseekers\"}\")\n",
    "print(\"The connection to the MySQL Engine is now functional.\")"
   ]
  },
  {
   "cell_type": "code",
   "execution_count": 2,
   "id": "d99de4e1-d950-4255-956a-351f1ceda3a7",
   "metadata": {},
   "outputs": [
    {
     "data": {
      "text/html": [
       "<div>\n",
       "<style scoped>\n",
       "    .dataframe tbody tr th:only-of-type {\n",
       "        vertical-align: middle;\n",
       "    }\n",
       "\n",
       "    .dataframe tbody tr th {\n",
       "        vertical-align: top;\n",
       "    }\n",
       "\n",
       "    .dataframe thead th {\n",
       "        text-align: right;\n",
       "    }\n",
       "</style>\n",
       "<table border=\"1\" class=\"dataframe\">\n",
       "  <thead>\n",
       "    <tr style=\"text-align: right;\">\n",
       "      <th></th>\n",
       "      <th>EmployeeKey</th>\n",
       "      <th>EmployeeID</th>\n",
       "      <th>Salesperson</th>\n",
       "      <th>Title</th>\n",
       "      <th>UPN</th>\n",
       "    </tr>\n",
       "  </thead>\n",
       "  <tbody>\n",
       "    <tr>\n",
       "      <th>0</th>\n",
       "      <td>272</td>\n",
       "      <td>502097814</td>\n",
       "      <td>Stephen Jiang</td>\n",
       "      <td>North American Sales Manager</td>\n",
       "      <td>stephen-jiang@adventureworks.com</td>\n",
       "    </tr>\n",
       "    <tr>\n",
       "      <th>1</th>\n",
       "      <td>277</td>\n",
       "      <td>112432117</td>\n",
       "      <td>Brian Welcker</td>\n",
       "      <td>Director of Sales</td>\n",
       "      <td>brian-welcker@adventureworks.com</td>\n",
       "    </tr>\n",
       "    <tr>\n",
       "      <th>2</th>\n",
       "      <td>281</td>\n",
       "      <td>841560125</td>\n",
       "      <td>Michael Blythe</td>\n",
       "      <td>Sales Representative</td>\n",
       "      <td>michael-blythe@adventureworks.com</td>\n",
       "    </tr>\n",
       "    <tr>\n",
       "      <th>3</th>\n",
       "      <td>282</td>\n",
       "      <td>191644724</td>\n",
       "      <td>Linda Mitchell</td>\n",
       "      <td>Sales Representative</td>\n",
       "      <td>linda-mitchell@adventureworks.com</td>\n",
       "    </tr>\n",
       "    <tr>\n",
       "      <th>4</th>\n",
       "      <td>283</td>\n",
       "      <td>615389812</td>\n",
       "      <td>Jillian Carson</td>\n",
       "      <td>Sales Representative</td>\n",
       "      <td>jillian-carson@adventureworks.com</td>\n",
       "    </tr>\n",
       "    <tr>\n",
       "      <th>5</th>\n",
       "      <td>284</td>\n",
       "      <td>234474252</td>\n",
       "      <td>Garrett Vargas</td>\n",
       "      <td>Sales Representative</td>\n",
       "      <td>garrett-vargas@adventureworks.com</td>\n",
       "    </tr>\n",
       "    <tr>\n",
       "      <th>6</th>\n",
       "      <td>285</td>\n",
       "      <td>716374314</td>\n",
       "      <td>Tsvi Reiter</td>\n",
       "      <td>Sales Representative</td>\n",
       "      <td>tsvi-reiter@adventureworks.com</td>\n",
       "    </tr>\n",
       "    <tr>\n",
       "      <th>7</th>\n",
       "      <td>286</td>\n",
       "      <td>61161660</td>\n",
       "      <td>Pamela Ansman-Wolfe</td>\n",
       "      <td>Sales Representative</td>\n",
       "      <td>pamela-ansman-wolfe@adventureworks.com</td>\n",
       "    </tr>\n",
       "    <tr>\n",
       "      <th>8</th>\n",
       "      <td>287</td>\n",
       "      <td>139397894</td>\n",
       "      <td>Shu Ito</td>\n",
       "      <td>Sales Representative</td>\n",
       "      <td>shu-ito@adventureworks.com</td>\n",
       "    </tr>\n",
       "    <tr>\n",
       "      <th>9</th>\n",
       "      <td>288</td>\n",
       "      <td>399771412</td>\n",
       "      <td>José Saraiva</td>\n",
       "      <td>Sales Representative</td>\n",
       "      <td>jose-saraiva@adventureworks.com</td>\n",
       "    </tr>\n",
       "    <tr>\n",
       "      <th>10</th>\n",
       "      <td>289</td>\n",
       "      <td>987554265</td>\n",
       "      <td>David Campbell</td>\n",
       "      <td>Sales Representative</td>\n",
       "      <td>david-campbell@adventureworks.com</td>\n",
       "    </tr>\n",
       "    <tr>\n",
       "      <th>11</th>\n",
       "      <td>290</td>\n",
       "      <td>982310417</td>\n",
       "      <td>Amy Alberts</td>\n",
       "      <td>European Sales Manager</td>\n",
       "      <td>amy-alberts@adventureworks.com</td>\n",
       "    </tr>\n",
       "    <tr>\n",
       "      <th>12</th>\n",
       "      <td>291</td>\n",
       "      <td>668991357</td>\n",
       "      <td>Jae Pak</td>\n",
       "      <td>Sales Representative</td>\n",
       "      <td>jae-pak@adventureworks.com</td>\n",
       "    </tr>\n",
       "    <tr>\n",
       "      <th>13</th>\n",
       "      <td>292</td>\n",
       "      <td>134219713</td>\n",
       "      <td>Ranjit Varkey Chudukatil</td>\n",
       "      <td>Sales Representative</td>\n",
       "      <td>ranjit-varkey-chudukatil@adventureworks.com</td>\n",
       "    </tr>\n",
       "    <tr>\n",
       "      <th>14</th>\n",
       "      <td>293</td>\n",
       "      <td>90836195</td>\n",
       "      <td>Tete Mensa-Annan</td>\n",
       "      <td>Sales Representative</td>\n",
       "      <td>tete-mensa-annan@adventureworks.com</td>\n",
       "    </tr>\n",
       "    <tr>\n",
       "      <th>15</th>\n",
       "      <td>294</td>\n",
       "      <td>481044938</td>\n",
       "      <td>Syed Abbas</td>\n",
       "      <td>Pacific Sales Manager</td>\n",
       "      <td>syed-abbas@adventureworks.com</td>\n",
       "    </tr>\n",
       "    <tr>\n",
       "      <th>16</th>\n",
       "      <td>295</td>\n",
       "      <td>954276278</td>\n",
       "      <td>Rachel Valdez</td>\n",
       "      <td>Sales Representative</td>\n",
       "      <td>rachel-valdez@adventureworks.com</td>\n",
       "    </tr>\n",
       "    <tr>\n",
       "      <th>17</th>\n",
       "      <td>296</td>\n",
       "      <td>758596752</td>\n",
       "      <td>Lynn Tsoflias</td>\n",
       "      <td>Sales Representative</td>\n",
       "      <td>lynn-tsoflias@adventureworks.com</td>\n",
       "    </tr>\n",
       "  </tbody>\n",
       "</table>\n",
       "</div>"
      ],
      "text/plain": [
       "    EmployeeKey  EmployeeID               Salesperson  \\\n",
       "0           272   502097814             Stephen Jiang   \n",
       "1           277   112432117             Brian Welcker   \n",
       "2           281   841560125            Michael Blythe   \n",
       "3           282   191644724            Linda Mitchell   \n",
       "4           283   615389812            Jillian Carson   \n",
       "5           284   234474252            Garrett Vargas   \n",
       "6           285   716374314               Tsvi Reiter   \n",
       "7           286    61161660       Pamela Ansman-Wolfe   \n",
       "8           287   139397894                   Shu Ito   \n",
       "9           288   399771412              José Saraiva   \n",
       "10          289   987554265            David Campbell   \n",
       "11          290   982310417               Amy Alberts   \n",
       "12          291   668991357                   Jae Pak   \n",
       "13          292   134219713  Ranjit Varkey Chudukatil   \n",
       "14          293    90836195          Tete Mensa-Annan   \n",
       "15          294   481044938                Syed Abbas   \n",
       "16          295   954276278             Rachel Valdez   \n",
       "17          296   758596752             Lynn Tsoflias   \n",
       "\n",
       "                           Title                                          UPN  \n",
       "0   North American Sales Manager             stephen-jiang@adventureworks.com  \n",
       "1              Director of Sales             brian-welcker@adventureworks.com  \n",
       "2           Sales Representative            michael-blythe@adventureworks.com  \n",
       "3           Sales Representative            linda-mitchell@adventureworks.com  \n",
       "4           Sales Representative            jillian-carson@adventureworks.com  \n",
       "5           Sales Representative            garrett-vargas@adventureworks.com  \n",
       "6           Sales Representative               tsvi-reiter@adventureworks.com  \n",
       "7           Sales Representative       pamela-ansman-wolfe@adventureworks.com  \n",
       "8           Sales Representative                   shu-ito@adventureworks.com  \n",
       "9           Sales Representative              jose-saraiva@adventureworks.com  \n",
       "10          Sales Representative            david-campbell@adventureworks.com  \n",
       "11        European Sales Manager               amy-alberts@adventureworks.com  \n",
       "12          Sales Representative                   jae-pak@adventureworks.com  \n",
       "13          Sales Representative  ranjit-varkey-chudukatil@adventureworks.com  \n",
       "14          Sales Representative          tete-mensa-annan@adventureworks.com  \n",
       "15         Pacific Sales Manager                syed-abbas@adventureworks.com  \n",
       "16          Sales Representative             rachel-valdez@adventureworks.com  \n",
       "17          Sales Representative             lynn-tsoflias@adventureworks.com  "
      ]
     },
     "execution_count": 2,
     "metadata": {},
     "output_type": "execute_result"
    }
   ],
   "source": [
    "# Importing the dataset from its diretory path.\n",
    "salesperson_df = pd.read_csv('Salesperson [FIXED].csv')\n",
    "\n",
    "# Displaying the dataset.\n",
    "salesperson_df"
   ]
  },
  {
   "cell_type": "code",
   "execution_count": 4,
   "id": "21726ef8",
   "metadata": {},
   "outputs": [
    {
     "name": "stdout",
     "output_type": "stream",
     "text": [
      "<class 'pandas.core.frame.DataFrame'>\n",
      "RangeIndex: 18 entries, 0 to 17\n",
      "Data columns (total 5 columns):\n",
      " #   Column       Non-Null Count  Dtype \n",
      "---  ------       --------------  ----- \n",
      " 0   EmployeeKey  18 non-null     int64 \n",
      " 1   EmployeeID   18 non-null     int64 \n",
      " 2   Salesperson  18 non-null     object\n",
      " 3   Title        18 non-null     object\n",
      " 4   UPN          18 non-null     object\n",
      "dtypes: int64(2), object(3)\n",
      "memory usage: 852.0+ bytes\n"
     ]
    }
   ],
   "source": [
    "# Displaying basic information based on the dataset we have.\n",
    "salesperson_df.info()"
   ]
  },
  {
   "cell_type": "code",
   "execution_count": 5,
   "id": "8a76233e-25e4-4be9-ac09-a608388ef851",
   "metadata": {},
   "outputs": [
    {
     "data": {
      "text/plain": [
       "EmployeeKey    0\n",
       "EmployeeID     0\n",
       "Salesperson    0\n",
       "Title          0\n",
       "UPN            0\n",
       "dtype: int64"
      ]
     },
     "execution_count": 5,
     "metadata": {},
     "output_type": "execute_result"
    }
   ],
   "source": [
    "# Looking for NULL values if they are available in the dataset.\n",
    "salesperson_df.isnull().sum()"
   ]
  },
  {
   "cell_type": "code",
   "execution_count": 6,
   "id": "762cbae6-f21f-4e22-a8af-aef95183f005",
   "metadata": {},
   "outputs": [
    {
     "data": {
      "text/plain": [
       "np.int64(0)"
      ]
     },
     "execution_count": 6,
     "metadata": {},
     "output_type": "execute_result"
    }
   ],
   "source": [
    "# Searching for duplicate values in the dataset (if exists).\n",
    "salesperson_df.duplicated().sum()"
   ]
  },
  {
   "cell_type": "code",
   "execution_count": 7,
   "id": "c07982ff-2b2a-4c8c-9778-948f66177611",
   "metadata": {},
   "outputs": [
    {
     "data": {
      "text/plain": [
       "EmployeeKey     int64\n",
       "EmployeeID      int64\n",
       "Salesperson    object\n",
       "Title          object\n",
       "UPN            object\n",
       "dtype: object"
      ]
     },
     "execution_count": 7,
     "metadata": {},
     "output_type": "execute_result"
    }
   ],
   "source": [
    "# Identifying the data types to see what we will be dealing with.\n",
    "salesperson_df.dtypes"
   ]
  },
  {
   "cell_type": "code",
   "execution_count": 8,
   "id": "63b7fddd-b33b-458a-8502-103199873e76",
   "metadata": {},
   "outputs": [],
   "source": [
    "# Removing any leading or trailing whitespace that contain unintended spaces. \n",
    "salesperson_df['Salesperson'] = salesperson_df['Salesperson'].str.strip()\n",
    "salesperson_df['Title'] = salesperson_df['Title'].str.strip()\n",
    "salesperson_df['UPN'] = salesperson_df['UPN'].str.strip()"
   ]
  },
  {
   "cell_type": "code",
   "execution_count": 9,
   "id": "ec323eeb-1bdf-49ae-8a2f-d3c9d6fca1e4",
   "metadata": {},
   "outputs": [
    {
     "data": {
      "text/plain": [
       "np.int64(0)"
      ]
     },
     "execution_count": 9,
     "metadata": {},
     "output_type": "execute_result"
    }
   ],
   "source": [
    "# Checking the dataset if it contains any emails that are duplicated.\n",
    "salesperson_df['UPN'].duplicated().sum() "
   ]
  },
  {
   "cell_type": "code",
   "execution_count": 12,
   "id": "5fc8eb40-c716-4ad4-9ecb-99293b97a5df",
   "metadata": {},
   "outputs": [
    {
     "data": {
      "text/html": [
       "<div>\n",
       "<style scoped>\n",
       "    .dataframe tbody tr th:only-of-type {\n",
       "        vertical-align: middle;\n",
       "    }\n",
       "\n",
       "    .dataframe tbody tr th {\n",
       "        vertical-align: top;\n",
       "    }\n",
       "\n",
       "    .dataframe thead th {\n",
       "        text-align: right;\n",
       "    }\n",
       "</style>\n",
       "<table border=\"1\" class=\"dataframe\">\n",
       "  <thead>\n",
       "    <tr style=\"text-align: right;\">\n",
       "      <th></th>\n",
       "      <th>EmployeeKey</th>\n",
       "      <th>EmployeeID</th>\n",
       "      <th>Salesperson</th>\n",
       "      <th>Title</th>\n",
       "      <th>UPN</th>\n",
       "    </tr>\n",
       "  </thead>\n",
       "  <tbody>\n",
       "    <tr>\n",
       "      <th>count</th>\n",
       "      <td>18.000000</td>\n",
       "      <td>1.800000e+01</td>\n",
       "      <td>18</td>\n",
       "      <td>18</td>\n",
       "      <td>18</td>\n",
       "    </tr>\n",
       "    <tr>\n",
       "      <th>unique</th>\n",
       "      <td>NaN</td>\n",
       "      <td>NaN</td>\n",
       "      <td>18</td>\n",
       "      <td>5</td>\n",
       "      <td>18</td>\n",
       "    </tr>\n",
       "    <tr>\n",
       "      <th>top</th>\n",
       "      <td>NaN</td>\n",
       "      <td>NaN</td>\n",
       "      <td>Stephen Jiang</td>\n",
       "      <td>Sales Representative</td>\n",
       "      <td>stephen-jiang@adventureworks.com</td>\n",
       "    </tr>\n",
       "    <tr>\n",
       "      <th>freq</th>\n",
       "      <td>NaN</td>\n",
       "      <td>NaN</td>\n",
       "      <td>1</td>\n",
       "      <td>14</td>\n",
       "      <td>1</td>\n",
       "    </tr>\n",
       "    <tr>\n",
       "      <th>mean</th>\n",
       "      <td>286.944444</td>\n",
       "      <td>4.928963e+08</td>\n",
       "      <td>NaN</td>\n",
       "      <td>NaN</td>\n",
       "      <td>NaN</td>\n",
       "    </tr>\n",
       "    <tr>\n",
       "      <th>std</th>\n",
       "      <td>6.421217</td>\n",
       "      <td>3.341403e+08</td>\n",
       "      <td>NaN</td>\n",
       "      <td>NaN</td>\n",
       "      <td>NaN</td>\n",
       "    </tr>\n",
       "    <tr>\n",
       "      <th>min</th>\n",
       "      <td>272.000000</td>\n",
       "      <td>6.116166e+07</td>\n",
       "      <td>NaN</td>\n",
       "      <td>NaN</td>\n",
       "      <td>NaN</td>\n",
       "    </tr>\n",
       "    <tr>\n",
       "      <th>25%</th>\n",
       "      <td>283.250000</td>\n",
       "      <td>1.524596e+08</td>\n",
       "      <td>NaN</td>\n",
       "      <td>NaN</td>\n",
       "      <td>NaN</td>\n",
       "    </tr>\n",
       "    <tr>\n",
       "      <th>50%</th>\n",
       "      <td>287.500000</td>\n",
       "      <td>4.915714e+08</td>\n",
       "      <td>NaN</td>\n",
       "      <td>NaN</td>\n",
       "      <td>NaN</td>\n",
       "    </tr>\n",
       "    <tr>\n",
       "      <th>75%</th>\n",
       "      <td>291.750000</td>\n",
       "      <td>7.480411e+08</td>\n",
       "      <td>NaN</td>\n",
       "      <td>NaN</td>\n",
       "      <td>NaN</td>\n",
       "    </tr>\n",
       "    <tr>\n",
       "      <th>max</th>\n",
       "      <td>296.000000</td>\n",
       "      <td>9.875543e+08</td>\n",
       "      <td>NaN</td>\n",
       "      <td>NaN</td>\n",
       "      <td>NaN</td>\n",
       "    </tr>\n",
       "  </tbody>\n",
       "</table>\n",
       "</div>"
      ],
      "text/plain": [
       "        EmployeeKey    EmployeeID    Salesperson                 Title  \\\n",
       "count     18.000000  1.800000e+01             18                    18   \n",
       "unique          NaN           NaN             18                     5   \n",
       "top             NaN           NaN  Stephen Jiang  Sales Representative   \n",
       "freq            NaN           NaN              1                    14   \n",
       "mean     286.944444  4.928963e+08            NaN                   NaN   \n",
       "std        6.421217  3.341403e+08            NaN                   NaN   \n",
       "min      272.000000  6.116166e+07            NaN                   NaN   \n",
       "25%      283.250000  1.524596e+08            NaN                   NaN   \n",
       "50%      287.500000  4.915714e+08            NaN                   NaN   \n",
       "75%      291.750000  7.480411e+08            NaN                   NaN   \n",
       "max      296.000000  9.875543e+08            NaN                   NaN   \n",
       "\n",
       "                                     UPN  \n",
       "count                                 18  \n",
       "unique                                18  \n",
       "top     stephen-jiang@adventureworks.com  \n",
       "freq                                   1  \n",
       "mean                                 NaN  \n",
       "std                                  NaN  \n",
       "min                                  NaN  \n",
       "25%                                  NaN  \n",
       "50%                                  NaN  \n",
       "75%                                  NaN  \n",
       "max                                  NaN  "
      ]
     },
     "execution_count": 12,
     "metadata": {},
     "output_type": "execute_result"
    }
   ],
   "source": [
    "# Checking out the summary of the following dataset in terms of statistics.\n",
    "salesperson_df.describe(include = 'all')"
   ]
  },
  {
   "cell_type": "code",
   "execution_count": 24,
   "id": "21a1f46b",
   "metadata": {},
   "outputs": [
    {
     "name": "stdout",
     "output_type": "stream",
     "text": [
      "Table 'SalesPerson' has been created and data has been inserted successfully.\n"
     ]
    },
    {
     "name": "stderr",
     "output_type": "stream",
     "text": [
      "C:\\Users\\hamad\\AppData\\Local\\Temp\\ipykernel_19028\\2676303775.py:2: UserWarning: The provided table name 'SalesPerson' is not found exactly as such in the database after writing the table, possibly due to case sensitivity issues. Consider using lower case table names.\n",
      "  salesperson_df.to_sql(\n"
     ]
    }
   ],
   "source": [
    "# Pushing all the data into the MySQL database.\n",
    "salesperson_df.to_sql(\n",
    "    name = 'SalesPerson',\n",
    "    con=engine,\n",
    "    index = False,\n",
    "    if_exists = 'append'\n",
    ")\n",
    "\n",
    "# Custom message to ensure the operation has been completed successfully.\n",
    "print(\"Table 'SalesPerson' has been created and data has been inserted successfully.\")"
   ]
  }
 ],
 "metadata": {
  "kernelspec": {
   "display_name": "Python 3",
   "language": "python",
   "name": "python3"
  },
  "language_info": {
   "codemirror_mode": {
    "name": "ipython",
    "version": 3
   },
   "file_extension": ".py",
   "mimetype": "text/x-python",
   "name": "python",
   "nbconvert_exporter": "python",
   "pygments_lexer": "ipython3",
   "version": "3.13.1"
  }
 },
 "nbformat": 4,
 "nbformat_minor": 5
}
