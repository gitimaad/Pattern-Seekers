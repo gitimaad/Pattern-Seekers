{
 "cells": [
  {
   "cell_type": "markdown",
   "id": "df8ad6cf",
   "metadata": {},
   "source": [
    "# Python Phase - Reseller\n",
    "\n",
    "This code will be the skeleton part for our Construc Week Project Approach. This file consists of all the major part of the analysis takes place and finally, connecting MySQL databases for it to import all the files and therefore creating a final dashboard. \n",
    "\n",
    "For the following phase, we have a total number of 7 datasets in which all of them are unclean meaning, they are not aligned and have a clustered set of results. In order to get ahead of it, each particular dataset has been arranged to ensure the data has been assigned to their particular columns. \n",
    "\n",
    "We shall now begin the basic EDA (Exploratory Data Analysis) and ensure each dataset has been cleaned and is set to be used in creating a database and then the dashboard."
   ]
  },
  {
   "cell_type": "code",
   "execution_count": 76,
   "id": "cf426eec-7e67-494f-bf71-c5c138eae5f6",
   "metadata": {},
   "outputs": [],
   "source": [
    "# Importing all the essential libraries for the analysis to be done.\n",
    "import pandas as pd\n",
    "import matplotlib.pyplot as plt\n",
    "import seaborn as sns\n",
    "import numpy as np\n",
    "\n",
    "# Importing libraries to connect and inject all the values from the dataset into the database server.\n",
    "from sqlalchemy import create_engine, text\n",
    "import mysql.connector"
   ]
  },
  {
   "cell_type": "code",
   "execution_count": 77,
   "id": "f425b04e",
   "metadata": {},
   "outputs": [
    {
     "name": "stdout",
     "output_type": "stream",
     "text": [
      "You have successfully connected to your database.\n"
     ]
    }
   ],
   "source": [
    "# Creating a connector so that the server can be connected here.\n",
    "db_connector = mysql.connector.connect(\n",
    "    host = \"127.0.0.1\",       \n",
    "    username = \"root\",\n",
    "    password = \"MySQL12345\",\n",
    "    database = \"patternseekers\"\n",
    ")\n",
    "\n",
    "# A custom message that displays if the operation has been successful.\n",
    "print(f\"You have successfully connected to your database.\")"
   ]
  },
  {
   "cell_type": "code",
   "execution_count": 78,
   "id": "de9ec1f2",
   "metadata": {},
   "outputs": [
    {
     "name": "stdout",
     "output_type": "stream",
     "text": [
      "The connection to the MySQL Engine is now functional.\n"
     ]
    }
   ],
   "source": [
    "# This engine will be another verification so that all the records made here can be added into the database.\n",
    "engine = create_engine(f\"mysql+mysqlconnector://{\"root\"}:{\"MySQL12345\"}@{\"127.0.0.1\"}/{\"patternseekers\"}\")\n",
    "print(\"The connection to the MySQL Engine is now functional.\")"
   ]
  },
  {
   "cell_type": "code",
   "execution_count": 79,
   "id": "8e6e383d-435d-4ee7-936b-4421a1431fd9",
   "metadata": {},
   "outputs": [
    {
     "data": {
      "text/html": [
       "<div>\n",
       "<style scoped>\n",
       "    .dataframe tbody tr th:only-of-type {\n",
       "        vertical-align: middle;\n",
       "    }\n",
       "\n",
       "    .dataframe tbody tr th {\n",
       "        vertical-align: top;\n",
       "    }\n",
       "\n",
       "    .dataframe thead th {\n",
       "        text-align: right;\n",
       "    }\n",
       "</style>\n",
       "<table border=\"1\" class=\"dataframe\">\n",
       "  <thead>\n",
       "    <tr style=\"text-align: right;\">\n",
       "      <th></th>\n",
       "      <th>ResellerKey</th>\n",
       "      <th>Business Type</th>\n",
       "      <th>Reseller</th>\n",
       "      <th>City</th>\n",
       "      <th>State-Province</th>\n",
       "      <th>Country-Region</th>\n",
       "    </tr>\n",
       "  </thead>\n",
       "  <tbody>\n",
       "    <tr>\n",
       "      <th>0</th>\n",
       "      <td>277</td>\n",
       "      <td>Specialty Bike Shop</td>\n",
       "      <td>The Bicycle Accessories Company</td>\n",
       "      <td>Alhambra</td>\n",
       "      <td>California</td>\n",
       "      <td>United States</td>\n",
       "    </tr>\n",
       "    <tr>\n",
       "      <th>1</th>\n",
       "      <td>455</td>\n",
       "      <td>Value Added Reseller</td>\n",
       "      <td>Timely Shipping Service</td>\n",
       "      <td>Alpine</td>\n",
       "      <td>California</td>\n",
       "      <td>United States</td>\n",
       "    </tr>\n",
       "    <tr>\n",
       "      <th>2</th>\n",
       "      <td>609</td>\n",
       "      <td>Value Added Reseller</td>\n",
       "      <td>Good Toys</td>\n",
       "      <td>Auburn</td>\n",
       "      <td>California</td>\n",
       "      <td>United States</td>\n",
       "    </tr>\n",
       "    <tr>\n",
       "      <th>3</th>\n",
       "      <td>492</td>\n",
       "      <td>Specialty Bike Shop</td>\n",
       "      <td>Basic Sports Equipment</td>\n",
       "      <td>Baldwin Park</td>\n",
       "      <td>California</td>\n",
       "      <td>United States</td>\n",
       "    </tr>\n",
       "    <tr>\n",
       "      <th>4</th>\n",
       "      <td>365</td>\n",
       "      <td>Specialty Bike Shop</td>\n",
       "      <td>Distinctive Store</td>\n",
       "      <td>Barstow</td>\n",
       "      <td>California</td>\n",
       "      <td>United States</td>\n",
       "    </tr>\n",
       "    <tr>\n",
       "      <th>...</th>\n",
       "      <td>...</td>\n",
       "      <td>...</td>\n",
       "      <td>...</td>\n",
       "      <td>...</td>\n",
       "      <td>...</td>\n",
       "      <td>...</td>\n",
       "    </tr>\n",
       "    <tr>\n",
       "      <th>696</th>\n",
       "      <td>340</td>\n",
       "      <td>Value Added Reseller</td>\n",
       "      <td>Nearby Cycle Shop</td>\n",
       "      <td>West Sussex</td>\n",
       "      <td>England</td>\n",
       "      <td>United Kingdom</td>\n",
       "    </tr>\n",
       "    <tr>\n",
       "      <th>697</th>\n",
       "      <td>106</td>\n",
       "      <td>Value Added Reseller</td>\n",
       "      <td>West Side Mart</td>\n",
       "      <td>Wokingham</td>\n",
       "      <td>England</td>\n",
       "      <td>United Kingdom</td>\n",
       "    </tr>\n",
       "    <tr>\n",
       "      <th>698</th>\n",
       "      <td>448</td>\n",
       "      <td>Warehouse</td>\n",
       "      <td>Action Bicycle Specialists</td>\n",
       "      <td>Woolston</td>\n",
       "      <td>England</td>\n",
       "      <td>United Kingdom</td>\n",
       "    </tr>\n",
       "    <tr>\n",
       "      <th>699</th>\n",
       "      <td>358</td>\n",
       "      <td>Value Added Reseller</td>\n",
       "      <td>Mail Market</td>\n",
       "      <td>York</td>\n",
       "      <td>England</td>\n",
       "      <td>United Kingdom</td>\n",
       "    </tr>\n",
       "    <tr>\n",
       "      <th>700</th>\n",
       "      <td>394</td>\n",
       "      <td>Value Added Reseller</td>\n",
       "      <td>Little Sports Center</td>\n",
       "      <td>York</td>\n",
       "      <td>England</td>\n",
       "      <td>United Kingdom</td>\n",
       "    </tr>\n",
       "  </tbody>\n",
       "</table>\n",
       "<p>701 rows × 6 columns</p>\n",
       "</div>"
      ],
      "text/plain": [
       "     ResellerKey         Business Type                         Reseller  \\\n",
       "0            277   Specialty Bike Shop  The Bicycle Accessories Company   \n",
       "1            455  Value Added Reseller          Timely Shipping Service   \n",
       "2            609  Value Added Reseller                        Good Toys   \n",
       "3            492   Specialty Bike Shop           Basic Sports Equipment   \n",
       "4            365   Specialty Bike Shop                Distinctive Store   \n",
       "..           ...                   ...                              ...   \n",
       "696          340  Value Added Reseller                Nearby Cycle Shop   \n",
       "697          106  Value Added Reseller                   West Side Mart   \n",
       "698          448             Warehouse       Action Bicycle Specialists   \n",
       "699          358  Value Added Reseller                      Mail Market   \n",
       "700          394  Value Added Reseller             Little Sports Center   \n",
       "\n",
       "             City State-Province  Country-Region  \n",
       "0        Alhambra     California   United States  \n",
       "1          Alpine     California   United States  \n",
       "2          Auburn     California   United States  \n",
       "3    Baldwin Park     California   United States  \n",
       "4         Barstow     California   United States  \n",
       "..            ...            ...             ...  \n",
       "696   West Sussex        England  United Kingdom  \n",
       "697     Wokingham        England  United Kingdom  \n",
       "698      Woolston        England  United Kingdom  \n",
       "699          York        England  United Kingdom  \n",
       "700          York        England  United Kingdom  \n",
       "\n",
       "[701 rows x 6 columns]"
      ]
     },
     "execution_count": 79,
     "metadata": {},
     "output_type": "execute_result"
    }
   ],
   "source": [
    "# Importing the dataset from its diretory path.\n",
    "reseller_df = pd.read_csv('Resellers [FIXED].csv')\n",
    "\n",
    "# Displaying the dataset.\n",
    "reseller_df"
   ]
  },
  {
   "cell_type": "code",
   "execution_count": 80,
   "id": "adb94fbe",
   "metadata": {},
   "outputs": [
    {
     "name": "stdout",
     "output_type": "stream",
     "text": [
      "<class 'pandas.core.frame.DataFrame'>\n",
      "RangeIndex: 701 entries, 0 to 700\n",
      "Data columns (total 6 columns):\n",
      " #   Column          Non-Null Count  Dtype \n",
      "---  ------          --------------  ----- \n",
      " 0   ResellerKey     701 non-null    int64 \n",
      " 1   Business Type   701 non-null    object\n",
      " 2   Reseller        701 non-null    object\n",
      " 3   City            701 non-null    object\n",
      " 4   State-Province  701 non-null    object\n",
      " 5   Country-Region  701 non-null    object\n",
      "dtypes: int64(1), object(5)\n",
      "memory usage: 33.0+ KB\n"
     ]
    }
   ],
   "source": [
    "# Displaying basic information based on the dataset we have.\n",
    "reseller_df.info()"
   ]
  },
  {
   "cell_type": "code",
   "execution_count": 81,
   "id": "c5ce05b8-7589-43b6-973f-99d3cb54f677",
   "metadata": {},
   "outputs": [
    {
     "data": {
      "text/plain": [
       "ResellerKey       0\n",
       "Business Type     0\n",
       "Reseller          0\n",
       "City              0\n",
       "State-Province    0\n",
       "Country-Region    0\n",
       "dtype: int64"
      ]
     },
     "execution_count": 81,
     "metadata": {},
     "output_type": "execute_result"
    }
   ],
   "source": [
    "# Looking for NULL values if they are available in the dataset.\n",
    "reseller_df.isnull().sum()"
   ]
  },
  {
   "cell_type": "code",
   "execution_count": 82,
   "id": "03248a8d-dfd6-4333-be6c-06cd771b3135",
   "metadata": {},
   "outputs": [
    {
     "data": {
      "text/plain": [
       "np.int64(0)"
      ]
     },
     "execution_count": 82,
     "metadata": {},
     "output_type": "execute_result"
    }
   ],
   "source": [
    "# Searching for duplicate values in the dataset (if exists).\n",
    "reseller_df.duplicated().sum()"
   ]
  },
  {
   "cell_type": "code",
   "execution_count": 83,
   "id": "bb37e144-8f87-4679-881e-0bd7708488b5",
   "metadata": {},
   "outputs": [
    {
     "data": {
      "text/plain": [
       "ResellerKey        int64\n",
       "Business Type     object\n",
       "Reseller          object\n",
       "City              object\n",
       "State-Province    object\n",
       "Country-Region    object\n",
       "dtype: object"
      ]
     },
     "execution_count": 83,
     "metadata": {},
     "output_type": "execute_result"
    }
   ],
   "source": [
    "# Identifying the data types to see what we will be dealing with.\n",
    "reseller_df.dtypes"
   ]
  },
  {
   "cell_type": "code",
   "execution_count": 84,
   "id": "ce9619f6-ab5f-4203-b057-9f83df00a97d",
   "metadata": {},
   "outputs": [
    {
     "data": {
      "text/html": [
       "<div>\n",
       "<style scoped>\n",
       "    .dataframe tbody tr th:only-of-type {\n",
       "        vertical-align: middle;\n",
       "    }\n",
       "\n",
       "    .dataframe tbody tr th {\n",
       "        vertical-align: top;\n",
       "    }\n",
       "\n",
       "    .dataframe thead th {\n",
       "        text-align: right;\n",
       "    }\n",
       "</style>\n",
       "<table border=\"1\" class=\"dataframe\">\n",
       "  <thead>\n",
       "    <tr style=\"text-align: right;\">\n",
       "      <th></th>\n",
       "      <th>ResellerKey</th>\n",
       "      <th>Business Type</th>\n",
       "      <th>Reseller</th>\n",
       "      <th>City</th>\n",
       "      <th>State-Province</th>\n",
       "      <th>Country-Region</th>\n",
       "    </tr>\n",
       "  </thead>\n",
       "  <tbody>\n",
       "    <tr>\n",
       "      <th>count</th>\n",
       "      <td>701.000000</td>\n",
       "      <td>701</td>\n",
       "      <td>701</td>\n",
       "      <td>701</td>\n",
       "      <td>701</td>\n",
       "      <td>701</td>\n",
       "    </tr>\n",
       "    <tr>\n",
       "      <th>unique</th>\n",
       "      <td>NaN</td>\n",
       "      <td>3</td>\n",
       "      <td>699</td>\n",
       "      <td>451</td>\n",
       "      <td>65</td>\n",
       "      <td>6</td>\n",
       "    </tr>\n",
       "    <tr>\n",
       "      <th>top</th>\n",
       "      <td>NaN</td>\n",
       "      <td>Value Added Reseller</td>\n",
       "      <td>Friendly Bike Shop</td>\n",
       "      <td>Toronto</td>\n",
       "      <td>California</td>\n",
       "      <td>United States</td>\n",
       "    </tr>\n",
       "    <tr>\n",
       "      <th>freq</th>\n",
       "      <td>NaN</td>\n",
       "      <td>238</td>\n",
       "      <td>2</td>\n",
       "      <td>24</td>\n",
       "      <td>78</td>\n",
       "      <td>427</td>\n",
       "    </tr>\n",
       "    <tr>\n",
       "      <th>mean</th>\n",
       "      <td>351.000000</td>\n",
       "      <td>NaN</td>\n",
       "      <td>NaN</td>\n",
       "      <td>NaN</td>\n",
       "      <td>NaN</td>\n",
       "      <td>NaN</td>\n",
       "    </tr>\n",
       "    <tr>\n",
       "      <th>std</th>\n",
       "      <td>202.505555</td>\n",
       "      <td>NaN</td>\n",
       "      <td>NaN</td>\n",
       "      <td>NaN</td>\n",
       "      <td>NaN</td>\n",
       "      <td>NaN</td>\n",
       "    </tr>\n",
       "    <tr>\n",
       "      <th>min</th>\n",
       "      <td>1.000000</td>\n",
       "      <td>NaN</td>\n",
       "      <td>NaN</td>\n",
       "      <td>NaN</td>\n",
       "      <td>NaN</td>\n",
       "      <td>NaN</td>\n",
       "    </tr>\n",
       "    <tr>\n",
       "      <th>25%</th>\n",
       "      <td>176.000000</td>\n",
       "      <td>NaN</td>\n",
       "      <td>NaN</td>\n",
       "      <td>NaN</td>\n",
       "      <td>NaN</td>\n",
       "      <td>NaN</td>\n",
       "    </tr>\n",
       "    <tr>\n",
       "      <th>50%</th>\n",
       "      <td>351.000000</td>\n",
       "      <td>NaN</td>\n",
       "      <td>NaN</td>\n",
       "      <td>NaN</td>\n",
       "      <td>NaN</td>\n",
       "      <td>NaN</td>\n",
       "    </tr>\n",
       "    <tr>\n",
       "      <th>75%</th>\n",
       "      <td>526.000000</td>\n",
       "      <td>NaN</td>\n",
       "      <td>NaN</td>\n",
       "      <td>NaN</td>\n",
       "      <td>NaN</td>\n",
       "      <td>NaN</td>\n",
       "    </tr>\n",
       "    <tr>\n",
       "      <th>max</th>\n",
       "      <td>701.000000</td>\n",
       "      <td>NaN</td>\n",
       "      <td>NaN</td>\n",
       "      <td>NaN</td>\n",
       "      <td>NaN</td>\n",
       "      <td>NaN</td>\n",
       "    </tr>\n",
       "  </tbody>\n",
       "</table>\n",
       "</div>"
      ],
      "text/plain": [
       "        ResellerKey         Business Type            Reseller     City  \\\n",
       "count    701.000000                   701                 701      701   \n",
       "unique          NaN                     3                 699      451   \n",
       "top             NaN  Value Added Reseller  Friendly Bike Shop  Toronto   \n",
       "freq            NaN                   238                   2       24   \n",
       "mean     351.000000                   NaN                 NaN      NaN   \n",
       "std      202.505555                   NaN                 NaN      NaN   \n",
       "min        1.000000                   NaN                 NaN      NaN   \n",
       "25%      176.000000                   NaN                 NaN      NaN   \n",
       "50%      351.000000                   NaN                 NaN      NaN   \n",
       "75%      526.000000                   NaN                 NaN      NaN   \n",
       "max      701.000000                   NaN                 NaN      NaN   \n",
       "\n",
       "       State-Province Country-Region  \n",
       "count             701            701  \n",
       "unique             65              6  \n",
       "top        California  United States  \n",
       "freq               78            427  \n",
       "mean              NaN            NaN  \n",
       "std               NaN            NaN  \n",
       "min               NaN            NaN  \n",
       "25%               NaN            NaN  \n",
       "50%               NaN            NaN  \n",
       "75%               NaN            NaN  \n",
       "max               NaN            NaN  "
      ]
     },
     "execution_count": 84,
     "metadata": {},
     "output_type": "execute_result"
    }
   ],
   "source": [
    "# Checking out the summary of the following dataset in terms of statistics.\n",
    "reseller_df.describe(include='all')"
   ]
  },
  {
   "cell_type": "code",
   "execution_count": 85,
   "id": "7655d4f9-69b0-4c5a-a23a-77f5701062b2",
   "metadata": {},
   "outputs": [],
   "source": [
    "# Converting the 'ResellerKey' column to category type to save memory.\n",
    "reseller_df['ResellerKey'] = reseller_df['ResellerKey'].astype('category')"
   ]
  },
  {
   "cell_type": "code",
   "execution_count": 86,
   "id": "70148b5d-fb88-4094-99d9-bad6af991aae",
   "metadata": {},
   "outputs": [],
   "source": [
    "# Converting 'Business Type', 'City', 'State-Province', 'Country-Region' to title case for consistency.\n",
    "reseller_df['Business Type'] = reseller_df['Business Type'].str.strip().str.title()\n",
    "reseller_df['City'] = reseller_df['City'].str.strip().str.title()\n",
    "reseller_df['State-Province'] = reseller_df['State-Province'].str.strip().str.title()\n",
    "reseller_df['Country-Region'] = reseller_df['Country-Region'].str.strip().str.title()"
   ]
  },
  {
   "cell_type": "code",
   "execution_count": 87,
   "id": "3b99ca12-f25e-4988-a056-aec94c866872",
   "metadata": {},
   "outputs": [
    {
     "data": {
      "text/html": [
       "<div>\n",
       "<style scoped>\n",
       "    .dataframe tbody tr th:only-of-type {\n",
       "        vertical-align: middle;\n",
       "    }\n",
       "\n",
       "    .dataframe tbody tr th {\n",
       "        vertical-align: top;\n",
       "    }\n",
       "\n",
       "    .dataframe thead th {\n",
       "        text-align: right;\n",
       "    }\n",
       "</style>\n",
       "<table border=\"1\" class=\"dataframe\">\n",
       "  <thead>\n",
       "    <tr style=\"text-align: right;\">\n",
       "      <th></th>\n",
       "      <th>ResellerKey</th>\n",
       "      <th>Business Type</th>\n",
       "      <th>Reseller</th>\n",
       "      <th>City</th>\n",
       "      <th>State-Province</th>\n",
       "      <th>Country-Region</th>\n",
       "    </tr>\n",
       "  </thead>\n",
       "  <tbody>\n",
       "    <tr>\n",
       "      <th>0</th>\n",
       "      <td>277</td>\n",
       "      <td>Specialty Bike Shop</td>\n",
       "      <td>The Bicycle Accessories Company</td>\n",
       "      <td>Alhambra</td>\n",
       "      <td>California</td>\n",
       "      <td>United States</td>\n",
       "    </tr>\n",
       "    <tr>\n",
       "      <th>1</th>\n",
       "      <td>455</td>\n",
       "      <td>Value Added Reseller</td>\n",
       "      <td>Timely Shipping Service</td>\n",
       "      <td>Alpine</td>\n",
       "      <td>California</td>\n",
       "      <td>United States</td>\n",
       "    </tr>\n",
       "    <tr>\n",
       "      <th>2</th>\n",
       "      <td>609</td>\n",
       "      <td>Value Added Reseller</td>\n",
       "      <td>Good Toys</td>\n",
       "      <td>Auburn</td>\n",
       "      <td>California</td>\n",
       "      <td>United States</td>\n",
       "    </tr>\n",
       "    <tr>\n",
       "      <th>3</th>\n",
       "      <td>492</td>\n",
       "      <td>Specialty Bike Shop</td>\n",
       "      <td>Basic Sports Equipment</td>\n",
       "      <td>Baldwin Park</td>\n",
       "      <td>California</td>\n",
       "      <td>United States</td>\n",
       "    </tr>\n",
       "    <tr>\n",
       "      <th>4</th>\n",
       "      <td>365</td>\n",
       "      <td>Specialty Bike Shop</td>\n",
       "      <td>Distinctive Store</td>\n",
       "      <td>Barstow</td>\n",
       "      <td>California</td>\n",
       "      <td>United States</td>\n",
       "    </tr>\n",
       "  </tbody>\n",
       "</table>\n",
       "</div>"
      ],
      "text/plain": [
       "  ResellerKey         Business Type                         Reseller  \\\n",
       "0         277   Specialty Bike Shop  The Bicycle Accessories Company   \n",
       "1         455  Value Added Reseller          Timely Shipping Service   \n",
       "2         609  Value Added Reseller                        Good Toys   \n",
       "3         492   Specialty Bike Shop           Basic Sports Equipment   \n",
       "4         365   Specialty Bike Shop                Distinctive Store   \n",
       "\n",
       "           City State-Province Country-Region  \n",
       "0      Alhambra     California  United States  \n",
       "1        Alpine     California  United States  \n",
       "2        Auburn     California  United States  \n",
       "3  Baldwin Park     California  United States  \n",
       "4       Barstow     California  United States  "
      ]
     },
     "execution_count": 87,
     "metadata": {},
     "output_type": "execute_result"
    }
   ],
   "source": [
    "# Displaying the first 5 rows to verify if the changes have been taken place.\n",
    "reseller_df.head()"
   ]
  },
  {
   "cell_type": "code",
   "execution_count": 93,
   "id": "93794692",
   "metadata": {},
   "outputs": [
    {
     "name": "stdout",
     "output_type": "stream",
     "text": [
      "Table 'Resellers' has been created and data has been inserted successfully.\n"
     ]
    },
    {
     "name": "stderr",
     "output_type": "stream",
     "text": [
      "C:\\Users\\hamad\\AppData\\Local\\Temp\\ipykernel_10380\\1807605984.py:6: UserWarning: The provided table name 'Resellers' is not found exactly as such in the database after writing the table, possibly due to case sensitivity issues. Consider using lower case table names.\n",
      "  reseller_df.to_sql(\n"
     ]
    }
   ],
   "source": [
    "# Changing the title names before pushing it into the database to avoid errors while quering in MySQL.\n",
    "reseller_df.columns = reseller_df.columns.str.replace(' ', '_')\n",
    "reseller_df.columns = reseller_df.columns.str.replace('-', '_')\n",
    "\n",
    "# Pushing all the data into the MySQL database.\n",
    "reseller_df.to_sql(\n",
    "    name = 'Resellers',\n",
    "    con=engine,\n",
    "    index = False,\n",
    "    if_exists = 'append'\n",
    ")\n",
    "\n",
    "# Custom message to ensure the operation has been completed successfully.\n",
    "print(\"Table 'Resellers' has been created and data has been inserted successfully.\")"
   ]
  }
 ],
 "metadata": {
  "kernelspec": {
   "display_name": "Python 3",
   "language": "python",
   "name": "python3"
  },
  "language_info": {
   "codemirror_mode": {
    "name": "ipython",
    "version": 3
   },
   "file_extension": ".py",
   "mimetype": "text/x-python",
   "name": "python",
   "nbconvert_exporter": "python",
   "pygments_lexer": "ipython3",
   "version": "3.13.1"
  }
 },
 "nbformat": 4,
 "nbformat_minor": 5
}
